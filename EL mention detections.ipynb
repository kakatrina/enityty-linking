{
 "cells": [
  {
   "cell_type": "code",
   "execution_count": 2,
   "metadata": {},
   "outputs": [],
   "source": [
    "from flair.data import Sentence\n",
    "from flair.models import SequenceTagger\n",
    "import random\n",
    "import pickle"
   ]
  },
  {
   "cell_type": "code",
   "execution_count": 5,
   "metadata": {},
   "outputs": [],
   "source": [
    "with open(\"virginial_clean_pkl.txt\", \"rb\") as fp:   \n",
    "     data=pickle.load(fp)\n",
    "article=[]\n",
    "for i in data:\n",
    "    for j in i:\n",
    "        article.append(j)"
   ]
  },
  {
   "cell_type": "markdown",
   "metadata": {},
   "source": [
    "### Unique Mentions"
   ]
  },
  {
   "cell_type": "code",
   "execution_count": 4,
   "metadata": {},
   "outputs": [],
   "source": [
    "class mentions:\n",
    "    def ___init___(self,d):\n",
    "        self.d=d\n",
    "    def unique_entities(self,d):\n",
    "        sentence=Sentence(d)\n",
    "        tagger=SequenceTagger.load('ner')\n",
    "        tagger.predict(sentence)\n",
    "        m=sentence.to_dict(tag_type='ner')\n",
    "        ent=m['entities']\n",
    "        L=[]\n",
    "        for i in ent:\n",
    "            L.append(i['text'])\n",
    "        ind=[]\n",
    "        name=[]\n",
    "        for i in L:\n",
    "            if i not in name:\n",
    "                name.append(i)\n",
    "                ind.append(L.index(i))\n",
    "        unique_mentions=[]\n",
    "        for i in ind:\n",
    "            unique_mentions.append(ent[i])\n",
    "        return unique_mentions"
   ]
  },
  {
   "cell_type": "code",
   "execution_count": 5,
   "metadata": {},
   "outputs": [
    {
     "name": "stdout",
     "output_type": "stream",
     "text": [
      "2020-10-11 11:25:43,292 loading file C:\\Users\\yueyu\\.flair\\models\\en-ner-conll03-v0.4.pt\n",
      "2020-10-11 11:26:22,815 loading file C:\\Users\\yueyu\\.flair\\models\\en-ner-conll03-v0.4.pt\n",
      "2020-10-11 11:26:30,289 loading file C:\\Users\\yueyu\\.flair\\models\\en-ner-conll03-v0.4.pt\n",
      "2020-10-11 11:26:41,227 loading file C:\\Users\\yueyu\\.flair\\models\\en-ner-conll03-v0.4.pt\n",
      "2020-10-11 11:27:27,749 loading file C:\\Users\\yueyu\\.flair\\models\\en-ner-conll03-v0.4.pt\n",
      "2020-10-11 11:27:50,882 loading file C:\\Users\\yueyu\\.flair\\models\\en-ner-conll03-v0.4.pt\n",
      "2020-10-11 11:28:37,133 loading file C:\\Users\\yueyu\\.flair\\models\\en-ner-conll03-v0.4.pt\n",
      "2020-10-11 11:30:43,467 loading file C:\\Users\\yueyu\\.flair\\models\\en-ner-conll03-v0.4.pt\n",
      "2020-10-11 11:31:07,156 loading file C:\\Users\\yueyu\\.flair\\models\\en-ner-conll03-v0.4.pt\n",
      "2020-10-11 11:31:20,791 loading file C:\\Users\\yueyu\\.flair\\models\\en-ner-conll03-v0.4.pt\n",
      "2020-10-11 11:32:07,696 loading file C:\\Users\\yueyu\\.flair\\models\\en-ner-conll03-v0.4.pt\n",
      "2020-10-11 11:32:33,134 loading file C:\\Users\\yueyu\\.flair\\models\\en-ner-conll03-v0.4.pt\n",
      "2020-10-11 11:32:40,217 loading file C:\\Users\\yueyu\\.flair\\models\\en-ner-conll03-v0.4.pt\n",
      "2020-10-11 11:33:26,469 loading file C:\\Users\\yueyu\\.flair\\models\\en-ner-conll03-v0.4.pt\n",
      "2020-10-11 11:34:15,733 loading file C:\\Users\\yueyu\\.flair\\models\\en-ner-conll03-v0.4.pt\n",
      "2020-10-11 11:34:26,893 loading file C:\\Users\\yueyu\\.flair\\models\\en-ner-conll03-v0.4.pt\n",
      "2020-10-11 11:34:44,196 loading file C:\\Users\\yueyu\\.flair\\models\\en-ner-conll03-v0.4.pt\n",
      "2020-10-11 11:35:32,759 loading file C:\\Users\\yueyu\\.flair\\models\\en-ner-conll03-v0.4.pt\n",
      "2020-10-11 11:36:16,022 loading file C:\\Users\\yueyu\\.flair\\models\\en-ner-conll03-v0.4.pt\n",
      "2020-10-11 11:36:50,475 loading file C:\\Users\\yueyu\\.flair\\models\\en-ner-conll03-v0.4.pt\n",
      "2020-10-11 11:37:34,449 loading file C:\\Users\\yueyu\\.flair\\models\\en-ner-conll03-v0.4.pt\n",
      "2020-10-11 11:37:49,678 loading file C:\\Users\\yueyu\\.flair\\models\\en-ner-conll03-v0.4.pt\n",
      "2020-10-11 11:38:08,971 loading file C:\\Users\\yueyu\\.flair\\models\\en-ner-conll03-v0.4.pt\n",
      "2020-10-11 11:38:31,748 loading file C:\\Users\\yueyu\\.flair\\models\\en-ner-conll03-v0.4.pt\n",
      "2020-10-11 11:39:16,422 loading file C:\\Users\\yueyu\\.flair\\models\\en-ner-conll03-v0.4.pt\n",
      "2020-10-11 11:39:49,858 loading file C:\\Users\\yueyu\\.flair\\models\\en-ner-conll03-v0.4.pt\n",
      "2020-10-11 11:40:00,680 loading file C:\\Users\\yueyu\\.flair\\models\\en-ner-conll03-v0.4.pt\n",
      "2020-10-11 11:40:35,714 loading file C:\\Users\\yueyu\\.flair\\models\\en-ner-conll03-v0.4.pt\n",
      "2020-10-11 11:40:46,605 loading file C:\\Users\\yueyu\\.flair\\models\\en-ner-conll03-v0.4.pt\n",
      "2020-10-11 11:41:17,728 loading file C:\\Users\\yueyu\\.flair\\models\\en-ner-conll03-v0.4.pt\n",
      "2020-10-11 11:41:31,793 loading file C:\\Users\\yueyu\\.flair\\models\\en-ner-conll03-v0.4.pt\n",
      "2020-10-11 11:42:05,273 loading file C:\\Users\\yueyu\\.flair\\models\\en-ner-conll03-v0.4.pt\n",
      "2020-10-11 11:43:39,802 loading file C:\\Users\\yueyu\\.flair\\models\\en-ner-conll03-v0.4.pt\n",
      "2020-10-11 11:44:45,346 loading file C:\\Users\\yueyu\\.flair\\models\\en-ner-conll03-v0.4.pt\n",
      "2020-10-11 11:44:55,111 loading file C:\\Users\\yueyu\\.flair\\models\\en-ner-conll03-v0.4.pt\n",
      "2020-10-11 11:45:02,256 loading file C:\\Users\\yueyu\\.flair\\models\\en-ner-conll03-v0.4.pt\n",
      "2020-10-11 11:45:40,141 loading file C:\\Users\\yueyu\\.flair\\models\\en-ner-conll03-v0.4.pt\n",
      "2020-10-11 11:45:57,030 loading file C:\\Users\\yueyu\\.flair\\models\\en-ner-conll03-v0.4.pt\n",
      "2020-10-11 11:46:46,251 loading file C:\\Users\\yueyu\\.flair\\models\\en-ner-conll03-v0.4.pt\n",
      "2020-10-11 11:47:39,406 loading file C:\\Users\\yueyu\\.flair\\models\\en-ner-conll03-v0.4.pt\n",
      "2020-10-11 11:48:27,227 loading file C:\\Users\\yueyu\\.flair\\models\\en-ner-conll03-v0.4.pt\n",
      "2020-10-11 11:49:10,230 loading file C:\\Users\\yueyu\\.flair\\models\\en-ner-conll03-v0.4.pt\n",
      "2020-10-11 11:49:45,348 loading file C:\\Users\\yueyu\\.flair\\models\\en-ner-conll03-v0.4.pt\n",
      "2020-10-11 11:50:08,816 loading file C:\\Users\\yueyu\\.flair\\models\\en-ner-conll03-v0.4.pt\n",
      "2020-10-11 11:50:47,673 loading file C:\\Users\\yueyu\\.flair\\models\\en-ner-conll03-v0.4.pt\n",
      "2020-10-11 11:51:00,655 loading file C:\\Users\\yueyu\\.flair\\models\\en-ner-conll03-v0.4.pt\n",
      "2020-10-11 11:51:56,434 loading file C:\\Users\\yueyu\\.flair\\models\\en-ner-conll03-v0.4.pt\n",
      "2020-10-11 11:52:48,982 loading file C:\\Users\\yueyu\\.flair\\models\\en-ner-conll03-v0.4.pt\n",
      "2020-10-11 11:53:27,958 loading file C:\\Users\\yueyu\\.flair\\models\\en-ner-conll03-v0.4.pt\n",
      "2020-10-11 11:54:19,571 loading file C:\\Users\\yueyu\\.flair\\models\\en-ner-conll03-v0.4.pt\n",
      "2020-10-11 11:55:13,338 loading file C:\\Users\\yueyu\\.flair\\models\\en-ner-conll03-v0.4.pt\n",
      "2020-10-11 11:58:35,754 loading file C:\\Users\\yueyu\\.flair\\models\\en-ner-conll03-v0.4.pt\n",
      "2020-10-11 11:58:45,261 loading file C:\\Users\\yueyu\\.flair\\models\\en-ner-conll03-v0.4.pt\n",
      "2020-10-11 11:59:23,914 loading file C:\\Users\\yueyu\\.flair\\models\\en-ner-conll03-v0.4.pt\n",
      "2020-10-11 11:59:49,854 loading file C:\\Users\\yueyu\\.flair\\models\\en-ner-conll03-v0.4.pt\n",
      "2020-10-11 12:00:15,034 loading file C:\\Users\\yueyu\\.flair\\models\\en-ner-conll03-v0.4.pt\n",
      "2020-10-11 12:00:17,185 loading file C:\\Users\\yueyu\\.flair\\models\\en-ner-conll03-v0.4.pt\n",
      "2020-10-11 12:00:53,960 loading file C:\\Users\\yueyu\\.flair\\models\\en-ner-conll03-v0.4.pt\n",
      "2020-10-11 12:00:56,982 loading file C:\\Users\\yueyu\\.flair\\models\\en-ner-conll03-v0.4.pt\n",
      "2020-10-11 12:01:27,597 loading file C:\\Users\\yueyu\\.flair\\models\\en-ner-conll03-v0.4.pt\n",
      "2020-10-11 12:01:54,560 loading file C:\\Users\\yueyu\\.flair\\models\\en-ner-conll03-v0.4.pt\n",
      "2020-10-11 12:02:15,893 loading file C:\\Users\\yueyu\\.flair\\models\\en-ner-conll03-v0.4.pt\n",
      "2020-10-11 12:02:19,028 loading file C:\\Users\\yueyu\\.flair\\models\\en-ner-conll03-v0.4.pt\n",
      "2020-10-11 12:02:40,959 loading file C:\\Users\\yueyu\\.flair\\models\\en-ner-conll03-v0.4.pt\n",
      "2020-10-11 12:03:22,875 loading file C:\\Users\\yueyu\\.flair\\models\\en-ner-conll03-v0.4.pt\n",
      "2020-10-11 12:03:30,274 loading file C:\\Users\\yueyu\\.flair\\models\\en-ner-conll03-v0.4.pt\n",
      "2020-10-11 12:04:06,451 loading file C:\\Users\\yueyu\\.flair\\models\\en-ner-conll03-v0.4.pt\n",
      "2020-10-11 12:04:44,231 loading file C:\\Users\\yueyu\\.flair\\models\\en-ner-conll03-v0.4.pt\n",
      "2020-10-11 12:05:14,752 loading file C:\\Users\\yueyu\\.flair\\models\\en-ner-conll03-v0.4.pt\n",
      "2020-10-11 12:05:39,137 loading file C:\\Users\\yueyu\\.flair\\models\\en-ner-conll03-v0.4.pt\n",
      "2020-10-11 12:05:41,390 loading file C:\\Users\\yueyu\\.flair\\models\\en-ner-conll03-v0.4.pt\n",
      "2020-10-11 12:06:07,077 loading file C:\\Users\\yueyu\\.flair\\models\\en-ner-conll03-v0.4.pt\n",
      "2020-10-11 12:06:38,715 loading file C:\\Users\\yueyu\\.flair\\models\\en-ner-conll03-v0.4.pt\n",
      "2020-10-11 12:06:45,035 loading file C:\\Users\\yueyu\\.flair\\models\\en-ner-conll03-v0.4.pt\n",
      "2020-10-11 12:07:08,299 loading file C:\\Users\\yueyu\\.flair\\models\\en-ner-conll03-v0.4.pt\n",
      "2020-10-11 12:07:21,818 loading file C:\\Users\\yueyu\\.flair\\models\\en-ner-conll03-v0.4.pt\n",
      "2020-10-11 12:07:33,770 loading file C:\\Users\\yueyu\\.flair\\models\\en-ner-conll03-v0.4.pt\n",
      "2020-10-11 12:07:39,014 loading file C:\\Users\\yueyu\\.flair\\models\\en-ner-conll03-v0.4.pt\n",
      "2020-10-11 12:08:08,722 loading file C:\\Users\\yueyu\\.flair\\models\\en-ner-conll03-v0.4.pt\n",
      "2020-10-11 12:08:17,868 loading file C:\\Users\\yueyu\\.flair\\models\\en-ner-conll03-v0.4.pt\n",
      "2020-10-11 12:08:35,195 loading file C:\\Users\\yueyu\\.flair\\models\\en-ner-conll03-v0.4.pt\n",
      "2020-10-11 12:09:16,020 loading file C:\\Users\\yueyu\\.flair\\models\\en-ner-conll03-v0.4.pt\n",
      "2020-10-11 12:09:23,121 loading file C:\\Users\\yueyu\\.flair\\models\\en-ner-conll03-v0.4.pt\n",
      "2020-10-11 12:09:32,078 loading file C:\\Users\\yueyu\\.flair\\models\\en-ner-conll03-v0.4.pt\n",
      "2020-10-11 12:09:44,302 loading file C:\\Users\\yueyu\\.flair\\models\\en-ner-conll03-v0.4.pt\n",
      "2020-10-11 12:10:14,220 loading file C:\\Users\\yueyu\\.flair\\models\\en-ner-conll03-v0.4.pt\n",
      "2020-10-11 12:10:22,678 loading file C:\\Users\\yueyu\\.flair\\models\\en-ner-conll03-v0.4.pt\n",
      "2020-10-11 12:10:40,328 loading file C:\\Users\\yueyu\\.flair\\models\\en-ner-conll03-v0.4.pt\n",
      "2020-10-11 12:11:12,772 loading file C:\\Users\\yueyu\\.flair\\models\\en-ner-conll03-v0.4.pt\n",
      "2020-10-11 12:11:31,397 loading file C:\\Users\\yueyu\\.flair\\models\\en-ner-conll03-v0.4.pt\n",
      "2020-10-11 12:11:53,813 loading file C:\\Users\\yueyu\\.flair\\models\\en-ner-conll03-v0.4.pt\n",
      "2020-10-11 12:12:43,846 loading file C:\\Users\\yueyu\\.flair\\models\\en-ner-conll03-v0.4.pt\n",
      "2020-10-11 12:12:48,085 loading file C:\\Users\\yueyu\\.flair\\models\\en-ner-conll03-v0.4.pt\n"
     ]
    },
    {
     "name": "stdout",
     "output_type": "stream",
     "text": [
      "2020-10-11 12:13:02,860 loading file C:\\Users\\yueyu\\.flair\\models\\en-ner-conll03-v0.4.pt\n",
      "2020-10-11 12:13:08,914 loading file C:\\Users\\yueyu\\.flair\\models\\en-ner-conll03-v0.4.pt\n",
      "2020-10-11 12:13:16,041 loading file C:\\Users\\yueyu\\.flair\\models\\en-ner-conll03-v0.4.pt\n",
      "2020-10-11 12:13:29,048 loading file C:\\Users\\yueyu\\.flair\\models\\en-ner-conll03-v0.4.pt\n",
      "2020-10-11 12:14:22,916 loading file C:\\Users\\yueyu\\.flair\\models\\en-ner-conll03-v0.4.pt\n",
      "2020-10-11 12:14:38,450 loading file C:\\Users\\yueyu\\.flair\\models\\en-ner-conll03-v0.4.pt\n",
      "2020-10-11 12:14:43,737 loading file C:\\Users\\yueyu\\.flair\\models\\en-ner-conll03-v0.4.pt\n"
     ]
    }
   ],
   "source": [
    "training=random.sample(article,100)\n",
    "Mentions=[]\n",
    "for i in training:\n",
    "    d=i\n",
    "    mm=mentions()\n",
    "    Mentions.append(mm.unique_entities(d))"
   ]
  },
  {
   "cell_type": "code",
   "execution_count": 6,
   "metadata": {},
   "outputs": [],
   "source": [
    "pickle.dump(training, open(\"training_data100_pkl.txt\", \"wb\" ) )"
   ]
  },
  {
   "cell_type": "code",
   "execution_count": 7,
   "metadata": {},
   "outputs": [],
   "source": [
    "pickle.dump(Mentions,open('unique_mentions.p','wb'))"
   ]
  }
 ],
 "metadata": {
  "kernelspec": {
   "display_name": "Python 3",
   "language": "python",
   "name": "python3"
  },
  "language_info": {
   "codemirror_mode": {
    "name": "ipython",
    "version": 3
   },
   "file_extension": ".py",
   "mimetype": "text/x-python",
   "name": "python",
   "nbconvert_exporter": "python",
   "pygments_lexer": "ipython3",
   "version": "3.8.3"
  }
 },
 "nbformat": 4,
 "nbformat_minor": 4
}
